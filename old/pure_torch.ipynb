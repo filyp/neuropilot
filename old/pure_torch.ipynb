{
 "cells": [
  {
   "cell_type": "code",
   "execution_count": null,
   "metadata": {},
   "outputs": [],
   "source": [
    "from transformers import AutoTokenizer, GPTNeoXForCausalLM, TextStreamer, TextIteratorStreamer\n",
    "from threading import Thread\n",
    "\n",
    "model_name = \"pythia-410m-deduped\"\n",
    "\n",
    "model = GPTNeoXForCausalLM.from_pretrained(\n",
    "  f\"EleutherAI/{model_name}\",\n",
    "  revision=\"step3000\",\n",
    "  cache_dir=f\"./{model_name}/step3000\",\n",
    ")\n",
    "\n",
    "tokenizer = AutoTokenizer.from_pretrained(\n",
    "  f\"EleutherAI/{model_name}\",\n",
    "  revision=\"step3000\",\n",
    "  cache_dir=f\"./{model_name}/step3000\",\n",
    ")\n",
    "\n",
    "streamer = TextStreamer(tokenizer)\n",
    "# streamer = TextIteratorStreamer(tokenizer)"
   ]
  },
  {
   "cell_type": "code",
   "execution_count": null,
   "metadata": {},
   "outputs": [],
   "source": [
    "inputs = tokenizer(\"The most beautiful\", return_tensors=\"pt\")\n",
    "_ = model.generate(**inputs, streamer=streamer, max_new_tokens=40, pad_token_id=tokenizer.eos_token_id)\n",
    "# tokenizer.decode(tokens[0])\n",
    "\n",
    "# Run the generation in a separate thread, so that we can fetch the generated text in a non-blocking way.\n",
    "# generation_kwargs = dict(inputs, streamer=streamer, max_new_tokens=20, pad_token_id=tokenizer.eos_token_id)\n",
    "# thread = Thread(target=model.generate, kwargs=generation_kwargs)\n",
    "# thread.start()\n",
    "# generated_text = \"\"\n",
    "# for new_text in streamer:\n",
    "#     generated_text += new_text\n",
    "# generated_text"
   ]
  }
 ],
 "metadata": {
  "kernelspec": {
   "display_name": "Python 3",
   "language": "python",
   "name": "python3"
  },
  "language_info": {
   "codemirror_mode": {
    "name": "ipython",
    "version": 3
   },
   "file_extension": ".py",
   "mimetype": "text/x-python",
   "name": "python",
   "nbconvert_exporter": "python",
   "pygments_lexer": "ipython3",
   "version": "3.11.3"
  }
 },
 "nbformat": 4,
 "nbformat_minor": 2
}
